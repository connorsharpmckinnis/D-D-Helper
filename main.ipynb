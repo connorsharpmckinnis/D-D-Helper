{
 "cells": [
  {
   "cell_type": "markdown",
   "id": "7b1a61ca",
   "metadata": {},
   "source": [
    "DICE SYSTEM"
   ]
  },
  {
   "cell_type": "code",
   "execution_count": 1,
   "id": "b4679533",
   "metadata": {},
   "outputs": [],
   "source": [
    "import random"
   ]
  },
  {
   "cell_type": "code",
   "execution_count": null,
   "id": "faec474f",
   "metadata": {},
   "outputs": [],
   "source": [
    "stats = {\n",
    "    \"STR\": 10, \n",
    "    \"DEX\": 15,\n",
    "    \"CON\": 14,\n",
    "    \"INT\": 8,\n",
    "    \"WIS\": 10,\n",
    "    \"CHA\": 8\n",
    "}\n",
    "\n",
    "def mod_formula(stat):\n",
    "    value = ((stats[stat] - 10) // 2)\n",
    "    return value\n",
    "\n",
    "mods = {\n",
    "    \"STR\": mod_formula('STR'),\n",
    "    \"DEX\": mod_formula(\"DEX\"),\n",
    "    \"CON\": mod_formula(\"CON\"),\n",
    "    \"INT\": mod_formula(\"INT\"),\n",
    "    \"WIS\": mod_formula(\"WIS\"),\n",
    "    \"CHA\": mod_formula(\"CHA\"),\n",
    "}\n",
    "\n",
    "def roll(d_number, d_count=1):\n",
    "    value = 0\n",
    "    for i in range(d_count):\n",
    "        value += random.randint(1, d_number)\n",
    "    return value\n",
    "\n",
    "def roll_with_mod(d_number, d_count, ability):\n",
    "    return (roll(d_number, d_count) + mods[ability])\n",
    "\n",
    "def ability_check(ability, advantage=False):\n",
    "    if not advantage:\n",
    "        return roll_with_mod(20, 1, ability)\n",
    "    else: \n",
    "        return max(roll_with_mod(20, 1, ability), roll_with_mod(20, 1, ability))\n",
    "\n",
    "\n",
    "\n",
    "\n",
    "\n"
   ]
  },
  {
   "cell_type": "code",
   "execution_count": 52,
   "id": "01a7ba0a",
   "metadata": {},
   "outputs": [
    {
     "name": "stdout",
     "output_type": "stream",
     "text": [
      "11\n"
     ]
    }
   ],
   "source": [
    "print(roll_with_mod(20, 1, \"STR\"))"
   ]
  }
 ],
 "metadata": {
  "kernelspec": {
   "display_name": "dice-and-stats",
   "language": "python",
   "name": "python3"
  },
  "language_info": {
   "codemirror_mode": {
    "name": "ipython",
    "version": 3
   },
   "file_extension": ".py",
   "mimetype": "text/x-python",
   "name": "python",
   "nbconvert_exporter": "python",
   "pygments_lexer": "ipython3",
   "version": "3.13.7"
  }
 },
 "nbformat": 4,
 "nbformat_minor": 5
}
